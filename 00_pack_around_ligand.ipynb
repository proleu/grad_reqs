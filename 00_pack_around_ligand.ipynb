{
 "cells": [
  {
   "cell_type": "markdown",
   "metadata": {},
   "source": [
    "# Pack around ligand docks"
   ]
  },
  {
   "cell_type": "markdown",
   "metadata": {},
   "source": [
    "### Imports"
   ]
  },
  {
   "cell_type": "code",
   "execution_count": 1,
   "metadata": {},
   "outputs": [
    {
     "name": "stdout",
     "output_type": "stream",
     "text": [
      "running in directory: /mnt/home/pleung/projects/grad_reqs\n",
      "running on node: dig107\n"
     ]
    }
   ],
   "source": [
    "%load_ext lab_black\n",
    "# Python standard library\n",
    "from glob import glob\n",
    "import os\n",
    "import socket\n",
    "import sys\n",
    "\n",
    "# 3rd party library imports\n",
    "import dask\n",
    "import matplotlib.pyplot as plt\n",
    "import pandas as pd\n",
    "import pyrosetta\n",
    "import numpy as np\n",
    "import scipy\n",
    "import seaborn as sns\n",
    "from tqdm.auto import tqdm  # jupyter compatible progress bar\n",
    "\n",
    "tqdm.pandas()  # link tqdm to pandas\n",
    "# Notebook magic\n",
    "# save plots in the notebook\n",
    "%matplotlib inline\n",
    "# reloads modules automatically before executing cells\n",
    "%load_ext autoreload\n",
    "%autoreload 2\n",
    "print(f\"running in directory: {os.getcwd()}\")  # where are we?\n",
    "print(f\"running on node: {socket.gethostname()}\")  # what node are we on?"
   ]
  },
  {
   "cell_type": "markdown",
   "metadata": {},
   "source": [
    "### Insert the root of the crispy_shifty repo"
   ]
  },
  {
   "cell_type": "code",
   "execution_count": 2,
   "metadata": {},
   "outputs": [],
   "source": [
    "sys.path.insert(0, \"/projects/crispy_shifty\")"
   ]
  },
  {
   "cell_type": "markdown",
   "metadata": {},
   "source": [
    "### Run MPNN on the interfaces"
   ]
  },
  {
   "cell_type": "code",
   "execution_count": null,
   "metadata": {},
   "outputs": [],
   "source": [
    "from crispy_shifty.utils.io import gen_array_tasks\n",
    "\n",
    "simulation_name = \"00_pack_around_ligand\"\n",
    "design_list_file = \"/home/pleung/projects/grad_reqs/00_pack_around_ligand/docks.list\"\n",
    "output_path = os.path.join(os.getcwd(), f\"{simulation_name}\")\n",
    "options = \" \".join(\n",
    "    [\n",
    "        \"out:level 200\",\n",
    "        \"corrections:beta_nov16 true\",\n",
    "        \"extra_res_fa /home/pleung/projects/grad_reqs/00_pack_around_ligand/afo.params\",\n",
    "    ]\n",
    ")\n",
    "\n",
    "gen_array_tasks(\n",
    "    distribute_func=\"deployables.pack_around_ligand\",\n",
    "    func_root=\"/home/pleung/projects/grad_reqs\",\n",
    "    design_list_file=design_list_file,\n",
    "    output_path=output_path,\n",
    "    queue=\"short\",\n",
    "    memory=\"4G\",\n",
    "    nstruct=1,\n",
    "    nstruct_per_task=50,\n",
    "    options=options,\n",
    "    simulation_name=simulation_name,\n",
    ")"
   ]
  },
  {
   "cell_type": "markdown",
   "metadata": {},
   "source": [
    "### Collect scorefiles of the MPNN designed bound states and concatenate"
   ]
  },
  {
   "cell_type": "code",
   "execution_count": null,
   "metadata": {
    "scrolled": true,
    "tags": []
   },
   "outputs": [],
   "source": [
    "sys.path.insert(0, \"/projects/crispy_shifty\")\n",
    "from crispy_shifty.utils.io import collect_score_file\n",
    "\n",
    "simulation_name = \"00_pack_around_ligand\"\n",
    "output_path = os.path.join(os.getcwd(), f\"{simulation_name}\")\n",
    "\n",
    "if not os.path.exists(os.path.join(output_path, \"scores.json\")):\n",
    "    collect_score_file(output_path, \"scores\")"
   ]
  },
  {
   "cell_type": "markdown",
   "metadata": {},
   "source": [
    "### Load resulting concatenated scorefile"
   ]
  },
  {
   "cell_type": "code",
   "execution_count": null,
   "metadata": {
    "scrolled": true,
    "tags": []
   },
   "outputs": [],
   "source": [
    "sys.path.insert(0, \"/projects/crispy_shifty\")\n",
    "from crispy_shifty.utils.io import parse_scorefile_linear\n",
    "\n",
    "output_path = os.path.join(os.getcwd(), f\"{simulation_name}\")\n",
    "\n",
    "if not os.path.exists(os.path.join(output_path, \"scores.csv\")):\n",
    "    scores_df = parse_scorefile_linear(os.path.join(output_path, \"scores.json\"))"
   ]
  },
  {
   "cell_type": "markdown",
   "metadata": {},
   "source": [
    "### Dump scores_df as a CSV and then reload, for performance reasons"
   ]
  },
  {
   "cell_type": "code",
   "execution_count": null,
   "metadata": {},
   "outputs": [],
   "source": [
    "if not os.path.exists(os.path.join(output_path, \"scores.csv\")):\n",
    "    scores_df.to_csv(os.path.join(output_path, \"scores.csv\"))\n",
    "\n",
    "scores_df = pd.read_csv(os.path.join(output_path, \"scores.csv\"), index_col=\"Unnamed: 0\")"
   ]
  },
  {
   "cell_type": "markdown",
   "metadata": {},
   "source": [
    "### Data exploration"
   ]
  },
  {
   "cell_type": "code",
   "execution_count": null,
   "metadata": {},
   "outputs": [],
   "source": [
    "print(len(scores_df))\n",
    "print(list(scores_df.columns))"
   ]
  },
  {
   "cell_type": "markdown",
   "metadata": {},
   "source": [
    "### Prototyping blocks"
   ]
  }
 ],
 "metadata": {
  "kernelspec": {
   "display_name": "crispy (3.8.12)",
   "language": "python",
   "name": "crispy"
  },
  "language_info": {
   "codemirror_mode": {
    "name": "ipython",
    "version": 3
   },
   "file_extension": ".py",
   "mimetype": "text/x-python",
   "name": "python",
   "nbconvert_exporter": "python",
   "pygments_lexer": "ipython3",
   "version": "3.8.12"
  }
 },
 "nbformat": 4,
 "nbformat_minor": 5
}
