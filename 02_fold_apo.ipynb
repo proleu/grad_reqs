{
 "cells": [
  {
   "cell_type": "markdown",
   "id": "4c6847f3",
   "metadata": {},
   "source": [
    "# Run hacked AlphaFold2 on the MPNN designed binders"
   ]
  },
  {
   "cell_type": "markdown",
   "id": "23972c35",
   "metadata": {},
   "source": [
    "### Imports"
   ]
  },
  {
   "cell_type": "code",
   "execution_count": 1,
   "id": "c902cb02",
   "metadata": {},
   "outputs": [
    {
     "name": "stdout",
     "output_type": "stream",
     "text": [
      "running in directory: /global/u1/p/pleung/grad_reqs\n",
      "running on node: nid003556\n"
     ]
    }
   ],
   "source": [
    "%load_ext lab_black\n",
    "# Python standard library\n",
    "from glob import glob\n",
    "import os\n",
    "import socket\n",
    "import sys\n",
    "\n",
    "# 3rd party library imports\n",
    "import dask\n",
    "import matplotlib.pyplot as plt\n",
    "import pandas as pd\n",
    "import pyrosetta\n",
    "import numpy as np\n",
    "import scipy\n",
    "import seaborn as sns\n",
    "from tqdm.auto import tqdm  # jupyter compatible progress bar\n",
    "\n",
    "tqdm.pandas()  # link tqdm to pandas\n",
    "# Notebook magic\n",
    "# save plots in the notebook\n",
    "%matplotlib inline\n",
    "# reloads modules automatically before executing cells\n",
    "%load_ext autoreload\n",
    "%autoreload 2\n",
    "print(f\"running in directory: {os.getcwd()}\")  # where are we?\n",
    "print(f\"running on node: {socket.gethostname()}\")  # what node are we on?"
   ]
  },
  {
   "cell_type": "markdown",
   "id": "73ba81f5",
   "metadata": {},
   "source": [
    "### Insert the root of the crispy_shifty repo"
   ]
  },
  {
   "cell_type": "code",
   "execution_count": 2,
   "id": "45542925",
   "metadata": {},
   "outputs": [],
   "source": [
    "sys.path.insert(0, \"/global/cfs/cdirs/m4129/projects/crispy_shifty\")"
   ]
  },
  {
   "cell_type": "markdown",
   "id": "d1463e85",
   "metadata": {},
   "source": [
    "### Fix the paths\n",
    "Necessary because we are on perlmutter"
   ]
  },
  {
   "cell_type": "code",
   "execution_count": 3,
   "id": "cc6b2f1a",
   "metadata": {},
   "outputs": [
    {
     "name": "stderr",
     "output_type": "stream",
     "text": [
      "/global/cfs/cdirs/m4129/projects/crispy_shifty/envs/crispy/lib/python3.8/site-packages/dask_jobqueue/core.py:20: FutureWarning: tmpfile is deprecated and will be removed in a future release. Please use dask.utils.tmpfile instead.\n",
      "  from distributed.utils import tmpfile\n"
     ]
    }
   ],
   "source": [
    "from crispy_shifty.utils.io import fix_path_prefixes\n",
    "\n",
    "pairs = os.path.join(os.getcwd(), \"01_mpnn_around_ligand/filtered_designed.pair\")\n",
    "new_pairs = fix_path_prefixes(\n",
    "    find=\"/mnt/home/pleung/projects\",\n",
    "    replace=\"/global/u1/p/pleung\",\n",
    "    file=pairs,\n",
    "    overwrite=True,\n",
    ")"
   ]
  },
  {
   "cell_type": "markdown",
   "id": "2fca7606",
   "metadata": {
    "tags": []
   },
   "source": [
    "### Run AF2 on the MPNN designed binders"
   ]
  },
  {
   "cell_type": "code",
   "execution_count": null,
   "id": "42c32884",
   "metadata": {},
   "outputs": [],
   "source": [
    "from crispy_shifty.utils.io import gen_array_tasks\n",
    "\n",
    "simulation_name = \"02_fold_apo\"\n",
    "design_list_file = os.path.join(\n",
    "    os.getcwd(), \"01_mpnn_around_ligand/filtered_designed.pair\"\n",
    ")\n",
    "\n",
    "output_path = os.path.join(f\"/pscratch/sd/p/pleung/{simulation_name}\")\n",
    "\n",
    "options = \" \".join(\n",
    "    [\n",
    "        \"out:level 200\",\n",
    "        f\"extra_res_fa {os.path.join(os.getcwd(), 'afo.params')}\",\n",
    "    ]\n",
    ")\n",
    "extra_kwargs = {\"models\": \"4\"}\n",
    "\n",
    "gen_array_tasks(\n",
    "    distribute_func=\"deployables.fold_binder\",\n",
    "    func_root=\"/global/u1/p/pleung/grad_reqs\",\n",
    "    design_list_file=design_list_file,\n",
    "    output_path=output_path,\n",
    "    perlmutter_mode=True,\n",
    "    nstruct=1,\n",
    "    nstruct_per_task=1,\n",
    "    options=options,\n",
    "    extra_kwargs=extra_kwargs,\n",
    "    simulation_name=simulation_name,\n",
    "    time=\"24:00\",\n",
    ")"
   ]
  },
  {
   "cell_type": "markdown",
   "id": "8fe793bf",
   "metadata": {},
   "source": [
    "### Set working directory to the root of the crispy_shifty repo\n",
    "Note: We rsync the perlmutter results, now back on the digs"
   ]
  },
  {
   "cell_type": "code",
   "execution_count": null,
   "id": "cace6601",
   "metadata": {},
   "outputs": [],
   "source": [
    "os.chdir(\"/projects/crispy_shifty\")"
   ]
  },
  {
   "cell_type": "markdown",
   "id": "f71b154b",
   "metadata": {},
   "source": [
    "### Collect scorefiles of the folded binders and concatenate"
   ]
  },
  {
   "cell_type": "code",
   "execution_count": null,
   "id": "d0644498",
   "metadata": {
    "scrolled": true,
    "tags": []
   },
   "outputs": [],
   "source": [
    "sys.path.insert(0, \"/projects/crispy_shifty\")\n",
    "from crispy_shifty.utils.io import collect_score_file\n",
    "\n",
    "simulation_name = \"01_fold_binders\"\n",
    "output_path = os.path.join(os.getcwd(), f\"projects/crispy_crispies/{simulation_name}\")\n",
    "\n",
    "if not os.path.exists(os.path.join(output_path, \"scores.json\")):\n",
    "    collect_score_file(output_path, \"scores\")"
   ]
  },
  {
   "cell_type": "markdown",
   "id": "4518b06f",
   "metadata": {},
   "source": [
    "### Load resulting concatenated scorefile"
   ]
  },
  {
   "cell_type": "code",
   "execution_count": null,
   "id": "7117fd8f",
   "metadata": {
    "scrolled": true,
    "tags": []
   },
   "outputs": [],
   "source": [
    "sys.path.insert(0, \"/projects/crispy_shifty\")\n",
    "from crispy_shifty.utils.io import parse_scorefile_linear\n",
    "\n",
    "output_path = os.path.join(os.getcwd(), f\"projects/crispy_crispies/{simulation_name}\")\n",
    "\n",
    "if not os.path.exists(os.path.join(output_path, \"scores.csv\")):\n",
    "    scores_df = parse_scorefile_linear(os.path.join(output_path, \"scores.json\"))"
   ]
  },
  {
   "cell_type": "markdown",
   "id": "f204ffc0",
   "metadata": {},
   "source": [
    "### Dump scores_df as a CSV and then reload, for performance reasons"
   ]
  },
  {
   "cell_type": "code",
   "execution_count": null,
   "id": "f3fd549f",
   "metadata": {},
   "outputs": [],
   "source": [
    "if not os.path.exists(os.path.join(output_path, \"scores.csv\")):\n",
    "    scores_df.to_csv(os.path.join(output_path, \"scores.csv\"))\n",
    "\n",
    "scores_df = pd.read_csv(os.path.join(output_path, \"scores.csv\"), index_col=\"Unnamed: 0\")"
   ]
  },
  {
   "cell_type": "markdown",
   "id": "1e2e5028",
   "metadata": {},
   "source": [
    "### Setup for plotting"
   ]
  },
  {
   "cell_type": "code",
   "execution_count": null,
   "id": "fa7042e3",
   "metadata": {},
   "outputs": [],
   "source": [
    "sns.set(\n",
    "    context=\"talk\",\n",
    "    font_scale=1,  # make the font larger; default is pretty small\n",
    "    style=\"ticks\",  # make the background white with black lines\n",
    "    palette=\"colorblind\",  # a color palette that is colorblind friendly!\n",
    ")"
   ]
  },
  {
   "cell_type": "markdown",
   "id": "d14b9526",
   "metadata": {},
   "source": [
    "### Data exploration\n",
    "Gonna remove the Rosetta sfxn scoreterms for now"
   ]
  },
  {
   "cell_type": "code",
   "execution_count": null,
   "id": "9cd60642",
   "metadata": {},
   "outputs": [],
   "source": [
    "rosetta = scores_df[scores_df[\"designed_by\"] == \"rosetta\"]\n",
    "mpnn = scores_df[scores_df[\"designed_by\"] == \"mpnn\"].sample(1000, random_state=0)\n",
    "sample_df = pd.concat([rosetta, mpnn])"
   ]
  },
  {
   "cell_type": "code",
   "execution_count": null,
   "id": "1cde9918",
   "metadata": {},
   "outputs": [],
   "source": [
    "from crispy_shifty.protocols.design import beta_nov16_terms\n",
    "\n",
    "sample_df = sample_df[\n",
    "    [term for term in sample_df.columns if term not in beta_nov16_terms]\n",
    "]\n",
    "print(len(sample_df))\n",
    "print(list(sample_df.columns))"
   ]
  },
  {
   "cell_type": "code",
   "execution_count": null,
   "id": "e1c027b2",
   "metadata": {},
   "outputs": [],
   "source": [
    "from crispy_shifty.utils.plotting import histplot_df, pairplot_df"
   ]
  },
  {
   "cell_type": "markdown",
   "id": "1180ba01",
   "metadata": {},
   "source": [
    "### Plot before and after interface design AF2 metrics"
   ]
  },
  {
   "cell_type": "code",
   "execution_count": null,
   "id": "48836307",
   "metadata": {},
   "outputs": [],
   "source": [
    "cols = [\n",
    "    \"mean_pae_interaction\",\n",
    "    \"mean_plddt\",\n",
    "    \"pTMscore\",\n",
    "    \"rmsd_to_reference\",\n",
    "]\n",
    "the_fig = histplot_df(\n",
    "    df=sample_df,\n",
    "    cols=cols,\n",
    "    bins=10,\n",
    "    hue=\"designed_by\",\n",
    ")\n",
    "plt.savefig(os.path.join(output_path, \"old_vs_new_af2_scores.png\"))"
   ]
  },
  {
   "cell_type": "code",
   "execution_count": null,
   "id": "82acebc4-931b-4c0b-8b39-17778fac6e71",
   "metadata": {},
   "outputs": [],
   "source": [
    "mpnn[\"mpnn_temperature\"] = mpnn[\"mpnn_temperature\"].astype(str)\n",
    "\n",
    "cols = [\n",
    "    \"best_average_plddts\",\n",
    "    \"best_ptm\",\n",
    "    \"best_rmsd_to_input\",\n",
    "    \"mean_plddt\",\n",
    "    \"pTMscore\",\n",
    "    \"rmsd_to_reference\",\n",
    "]\n",
    "the_fig = histplot_df(\n",
    "    df=mpnn,\n",
    "    cols=cols,\n",
    "    bins=10,\n",
    "    hue=\"mpnn_temperature\",\n",
    ")\n",
    "plt.savefig(os.path.join(output_path, \"old_vs_new_af2_scores_temp.png\"))"
   ]
  },
  {
   "cell_type": "code",
   "execution_count": null,
   "id": "b410fed9-df41-48f0-8d99-e6b95ecd2bff",
   "metadata": {},
   "outputs": [],
   "source": [
    "the_fig = pairplot_df(\n",
    "    df=mpnn,\n",
    "    cols=cols,\n",
    "    hue=\"mpnn_temperature\",\n",
    ")\n",
    "plt.savefig(os.path.join(output_path, \"old_vs_new_af2_scores_temp_paired.png\"))"
   ]
  },
  {
   "cell_type": "code",
   "execution_count": null,
   "id": "51f48e34-84c7-48da-b386-b245c164effc",
   "metadata": {},
   "outputs": [],
   "source": [
    "the_fig = histplot_df(\n",
    "    df=mpnn,\n",
    "    cols=cols,\n",
    "    bins=10,\n",
    "    hue=\"mpnn_design_area\",\n",
    ")\n",
    "plt.savefig(os.path.join(output_path, \"old_vs_new_af2_scores_area.png\"))"
   ]
  },
  {
   "cell_type": "code",
   "execution_count": null,
   "id": "7bbf56d8-252e-486d-ab6d-647962839f57",
   "metadata": {},
   "outputs": [],
   "source": [
    "the_fig = pairplot_df(\n",
    "    df=mpnn,\n",
    "    cols=cols,\n",
    "    hue=\"mpnn_design_area\",\n",
    ")\n",
    "plt.savefig(os.path.join(output_path, \"old_vs_new_af2_scores_area_paired.png\"))"
   ]
  },
  {
   "cell_type": "code",
   "execution_count": null,
   "id": "efa263cb",
   "metadata": {},
   "outputs": [],
   "source": [
    "# sample_df[\"best_model\"] = sample_df[\"best_model\"].astype(str)\n",
    "# the_fig = histplot_df(\n",
    "#     df=sample_df,\n",
    "#     cols=cols,\n",
    "#     bins=10,\n",
    "#     hue=\"best_model\",\n",
    "# )"
   ]
  },
  {
   "cell_type": "code",
   "execution_count": null,
   "id": "33ac0b2a",
   "metadata": {},
   "outputs": [],
   "source": [
    "# sample_df[\"best_model\"] = sample_df[\"best_model\"].astype(str)\n",
    "# the_fig = histplot_df(\n",
    "#     df=sample_df,\n",
    "#     cols=cols,\n",
    "#     bins=10,\n",
    "#     hue=\"topo\",\n",
    "# )"
   ]
  },
  {
   "cell_type": "markdown",
   "id": "87b74fd8",
   "metadata": {},
   "source": [
    "### Plot interface metrics"
   ]
  },
  {
   "cell_type": "code",
   "execution_count": null,
   "id": "3c7f55b1",
   "metadata": {},
   "outputs": [],
   "source": [
    "cols = [\n",
    "    \"cms_AnAcB\",\n",
    "    \"mean_pae\",\n",
    "    \"mean_pae_interaction\",\n",
    "    \"mean_pae_intra_chain\",\n",
    "    \"mean_plddt\",\n",
    "    \"sc_AnAcB\",\n",
    "]\n",
    "the_fig = histplot_df(\n",
    "    df=sample_df,\n",
    "    cols=cols,\n",
    "    bins=10,\n",
    "    hue=\"designed_by\",\n",
    ")\n",
    "plt.savefig(os.path.join(output_path, \"interface_scores.png\"))"
   ]
  },
  {
   "cell_type": "code",
   "execution_count": null,
   "id": "03e93c2e",
   "metadata": {},
   "outputs": [],
   "source": [
    "the_fig = pairplot_df(\n",
    "    df=sample_df,\n",
    "    cols=cols,\n",
    "    hue=\"designed_by\",\n",
    ")\n",
    "plt.savefig(os.path.join(output_path, \"interface_scores_paired.png\"))"
   ]
  },
  {
   "cell_type": "markdown",
   "id": "97f53a1f",
   "metadata": {},
   "source": [
    "### Filter the whole df"
   ]
  },
  {
   "cell_type": "code",
   "execution_count": null,
   "id": "be97fe19",
   "metadata": {},
   "outputs": [],
   "source": [
    "query = \"mean_pae_interaction <10 and mean_plddt > 92 and rmsd_to_reference < 1.75\"\n",
    "\n",
    "filtered = scores_df.query(query)\n",
    "len(filtered)"
   ]
  },
  {
   "cell_type": "code",
   "execution_count": null,
   "id": "67ca3d54-1cd3-4eaf-9604-055392702b4b",
   "metadata": {},
   "outputs": [],
   "source": [
    "filtered.groupby(\"target_name\").count()"
   ]
  },
  {
   "cell_type": "markdown",
   "id": "f2c73817-be08-4ff6-a1c1-739f10fcb30e",
   "metadata": {},
   "source": [
    "### Make seperate dfs of binders for the GIP/GLP/Glucagon family and for NPY"
   ]
  },
  {
   "cell_type": "code",
   "execution_count": null,
   "id": "99381ada-3a8d-4aa5-87ad-ac3514463e00",
   "metadata": {},
   "outputs": [],
   "source": [
    "gip = filtered.query(\"target_name == 'gip'\")\n",
    "glp = filtered.query(\"target_name == 'glp'\")\n",
    "gluc = filtered.query(\"target_name == 'glucagon'\")\n",
    "npy = filtered.query(\"target_name == 'neuropeptideY'\")"
   ]
  },
  {
   "cell_type": "markdown",
   "id": "43d4c594",
   "metadata": {},
   "source": [
    "### Save a list of outputs\n",
    "Sort by length  "
   ]
  },
  {
   "cell_type": "code",
   "execution_count": null,
   "id": "459fbe40",
   "metadata": {},
   "outputs": [],
   "source": [
    "simulation_name = \"01_fold_binders\"\n",
    "output_path = os.path.join(os.getcwd(), f\"projects/crispy_crispies/{simulation_name}\")\n",
    "filtered = filtered.sort_values(\"total_length\")\n",
    "with open(os.path.join(output_path, \"folded_binders.list\"), \"w\") as f:\n",
    "    for path in tqdm(filtered.index):\n",
    "        print(path, file=f)\n",
    "with open(os.path.join(output_path, \"gip.list\"), \"w\") as f:\n",
    "    for path in tqdm(gip.index):\n",
    "        print(path, file=f)\n",
    "with open(os.path.join(output_path, \"glp.list\"), \"w\") as f:\n",
    "    for path in tqdm(glp.index):\n",
    "        print(path, file=f)\n",
    "with open(os.path.join(output_path, \"gluc.list\"), \"w\") as f:\n",
    "    for path in tqdm(gluc.index):\n",
    "        print(path, file=f)\n",
    "with open(os.path.join(output_path, \"npy.list\"), \"w\") as f:\n",
    "    for path in tqdm(npy.index):\n",
    "        print(path, file=f)"
   ]
  },
  {
   "cell_type": "markdown",
   "id": "70f75730-46a4-4f71-962d-e327261d21ac",
   "metadata": {},
   "source": [
    "### Fix the paths\n",
    "Necessary because we transferred from perlmutter"
   ]
  },
  {
   "cell_type": "code",
   "execution_count": null,
   "id": "ae87d432-84f4-46a0-8467-b5d3122d768d",
   "metadata": {},
   "outputs": [],
   "source": [
    "from crispy_shifty.utils.io import fix_path_prefixes\n",
    "\n",
    "for l in \"gip\", \"glp\", \"gluc\", \"npy\":\n",
    "\n",
    "    _ = fix_path_prefixes(\n",
    "        find=\"/pscratch/sd/p/pleung\",\n",
    "        replace=\"/mnt/projects/crispy_shifty/projects/crispy_crispies\",\n",
    "        file=os.path.join(\n",
    "            os.getcwd(), f\"projects/crispy_crispies/01_fold_binders/{l}.list\"\n",
    "        ),\n",
    "        overwrite=True,\n",
    "    )"
   ]
  },
  {
   "cell_type": "markdown",
   "id": "92857a32-8c7c-408e-8954-fe0d46f6f199",
   "metadata": {},
   "source": [
    "### Save a list of chunked outputs\n",
    "50 per chunk"
   ]
  },
  {
   "cell_type": "code",
   "execution_count": null,
   "id": "a9c7e931-ecf5-42fd-8805-05975f3568ea",
   "metadata": {},
   "outputs": [],
   "source": [
    "from more_itertools import ichunked\n",
    "\n",
    "with open(os.path.join(output_path, \"folded_binders.pair\"), \"w\") as f:\n",
    "    for paths in ichunked(tqdm(filtered.index), 50):\n",
    "        line = \"____\".join(paths)\n",
    "        print(line, file=f)"
   ]
  },
  {
   "cell_type": "markdown",
   "id": "dcace152",
   "metadata": {},
   "source": [
    "### Prototyping blocks"
   ]
  }
 ],
 "metadata": {
  "kernelspec": {
   "display_name": "crispy (3.8.12)",
   "language": "python",
   "name": "crispy"
  },
  "language_info": {
   "codemirror_mode": {
    "name": "ipython",
    "version": 3
   },
   "file_extension": ".py",
   "mimetype": "text/x-python",
   "name": "python",
   "nbconvert_exporter": "python",
   "pygments_lexer": "ipython3",
   "version": "3.8.12"
  }
 },
 "nbformat": 4,
 "nbformat_minor": 5
}
